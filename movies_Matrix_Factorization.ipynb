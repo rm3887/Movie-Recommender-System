{
 "cells": [
  {
   "cell_type": "code",
   "execution_count": 1,
   "metadata": {},
   "outputs": [],
   "source": [
    "import numpy as np\n",
    "import pandas as pd\n",
    "from scipy.sparse.linalg import svds\n",
    "from matplotlib import pyplot as plt\n",
    "\n",
    "from IPython.display import display, HTML"
   ]
  },
  {
   "cell_type": "code",
   "execution_count": 2,
   "metadata": {},
   "outputs": [
    {
     "name": "stdout",
     "output_type": "stream",
     "text": [
      "Wall time: 20.3 s\n"
     ]
    }
   ],
   "source": [
    "%%time\n",
    "movies = pd.read_csv(\"./movies.csv\")\n",
    "movies.dropna(inplace = True)\n",
    "movies.sort_values(by='movieId', inplace = True)\n",
    "movies.reset_index(inplace = True, drop = True)\n",
    "\n",
    "ratings = pd.read_csv('./ratings.csv')\n",
    "ratings.dropna(inplace = True)\n",
    "ratings.sort_values(by = 'movieId', inplace =True)\n",
    "ratings.reset_index(inplace = True, drop = True)"
   ]
  },
  {
   "cell_type": "code",
   "execution_count": 3,
   "metadata": {},
   "outputs": [
    {
     "name": "stdout",
     "output_type": "stream",
     "text": [
      "Wall time: 164 ms\n"
     ]
    }
   ],
   "source": [
    "%%time\n",
    "movies['year'] = movies.title.str.extract(\"\\((\\d{4})\\)\")\n",
    "movies.year = pd.to_datetime(movies.year, format = '%Y')\n",
    "movies.year = movies.year.dt.year\n",
    "movies.title = movies.title.str[:-7]\n",
    "\n",
    "# genres_df = pd.DataFrame(movies.genres.str.split('|').tolist()).stack().unique()\n",
    "# genres_df = pd.DataFrame(genres_df, columns = ['genre'])\n",
    "# movies = movies.join(movies.genres.str.get_dummies())\n",
    "# movies.drop('genres', inplace = True, axis=1)"
   ]
  },
  {
   "cell_type": "code",
   "execution_count": 4,
   "metadata": {},
   "outputs": [
    {
     "data": {
      "text/html": [
       "<div>\n",
       "<style scoped>\n",
       "    .dataframe tbody tr th:only-of-type {\n",
       "        vertical-align: middle;\n",
       "    }\n",
       "\n",
       "    .dataframe tbody tr th {\n",
       "        vertical-align: top;\n",
       "    }\n",
       "\n",
       "    .dataframe thead th {\n",
       "        text-align: right;\n",
       "    }\n",
       "</style>\n",
       "<table border=\"1\" class=\"dataframe\">\n",
       "  <thead>\n",
       "    <tr style=\"text-align: right;\">\n",
       "      <th></th>\n",
       "      <th>movieId</th>\n",
       "      <th>title</th>\n",
       "      <th>genres</th>\n",
       "      <th>year</th>\n",
       "    </tr>\n",
       "  </thead>\n",
       "  <tbody>\n",
       "    <tr>\n",
       "      <th>0</th>\n",
       "      <td>1</td>\n",
       "      <td>Toy Story</td>\n",
       "      <td>Adventure|Animation|Children|Comedy|Fantasy</td>\n",
       "      <td>1995.0</td>\n",
       "    </tr>\n",
       "    <tr>\n",
       "      <th>1</th>\n",
       "      <td>2</td>\n",
       "      <td>Jumanji</td>\n",
       "      <td>Adventure|Children|Fantasy</td>\n",
       "      <td>1995.0</td>\n",
       "    </tr>\n",
       "    <tr>\n",
       "      <th>2</th>\n",
       "      <td>3</td>\n",
       "      <td>Grumpier Old Men</td>\n",
       "      <td>Comedy|Romance</td>\n",
       "      <td>1995.0</td>\n",
       "    </tr>\n",
       "    <tr>\n",
       "      <th>3</th>\n",
       "      <td>4</td>\n",
       "      <td>Waiting to Exhale</td>\n",
       "      <td>Comedy|Drama|Romance</td>\n",
       "      <td>1995.0</td>\n",
       "    </tr>\n",
       "    <tr>\n",
       "      <th>4</th>\n",
       "      <td>5</td>\n",
       "      <td>Father of the Bride Part II</td>\n",
       "      <td>Comedy</td>\n",
       "      <td>1995.0</td>\n",
       "    </tr>\n",
       "  </tbody>\n",
       "</table>\n",
       "</div>"
      ],
      "text/plain": [
       "   movieId                        title  \\\n",
       "0        1                    Toy Story   \n",
       "1        2                      Jumanji   \n",
       "2        3             Grumpier Old Men   \n",
       "3        4            Waiting to Exhale   \n",
       "4        5  Father of the Bride Part II   \n",
       "\n",
       "                                        genres    year  \n",
       "0  Adventure|Animation|Children|Comedy|Fantasy  1995.0  \n",
       "1                   Adventure|Children|Fantasy  1995.0  \n",
       "2                               Comedy|Romance  1995.0  \n",
       "3                         Comedy|Drama|Romance  1995.0  \n",
       "4                                       Comedy  1995.0  "
      ]
     },
     "execution_count": 4,
     "metadata": {},
     "output_type": "execute_result"
    }
   ],
   "source": [
    "movies.head()"
   ]
  },
  {
   "cell_type": "code",
   "execution_count": 5,
   "metadata": {},
   "outputs": [
    {
     "data": {
      "text/html": [
       "<div>\n",
       "<style scoped>\n",
       "    .dataframe tbody tr th:only-of-type {\n",
       "        vertical-align: middle;\n",
       "    }\n",
       "\n",
       "    .dataframe tbody tr th {\n",
       "        vertical-align: top;\n",
       "    }\n",
       "\n",
       "    .dataframe thead th {\n",
       "        text-align: right;\n",
       "    }\n",
       "</style>\n",
       "<table border=\"1\" class=\"dataframe\">\n",
       "  <thead>\n",
       "    <tr style=\"text-align: right;\">\n",
       "      <th></th>\n",
       "      <th>userId</th>\n",
       "      <th>movieId</th>\n",
       "      <th>rating</th>\n",
       "      <th>timestamp</th>\n",
       "    </tr>\n",
       "  </thead>\n",
       "  <tbody>\n",
       "    <tr>\n",
       "      <th>0</th>\n",
       "      <td>97809</td>\n",
       "      <td>1</td>\n",
       "      <td>3.0</td>\n",
       "      <td>1213159631</td>\n",
       "    </tr>\n",
       "    <tr>\n",
       "      <th>1</th>\n",
       "      <td>106140</td>\n",
       "      <td>1</td>\n",
       "      <td>5.0</td>\n",
       "      <td>1359430429</td>\n",
       "    </tr>\n",
       "    <tr>\n",
       "      <th>2</th>\n",
       "      <td>106138</td>\n",
       "      <td>1</td>\n",
       "      <td>3.0</td>\n",
       "      <td>1028130533</td>\n",
       "    </tr>\n",
       "    <tr>\n",
       "      <th>3</th>\n",
       "      <td>70354</td>\n",
       "      <td>1</td>\n",
       "      <td>4.5</td>\n",
       "      <td>1297623340</td>\n",
       "    </tr>\n",
       "    <tr>\n",
       "      <th>4</th>\n",
       "      <td>70355</td>\n",
       "      <td>1</td>\n",
       "      <td>3.5</td>\n",
       "      <td>1201366614</td>\n",
       "    </tr>\n",
       "  </tbody>\n",
       "</table>\n",
       "</div>"
      ],
      "text/plain": [
       "   userId  movieId  rating   timestamp\n",
       "0   97809        1     3.0  1213159631\n",
       "1  106140        1     5.0  1359430429\n",
       "2  106138        1     3.0  1028130533\n",
       "3   70354        1     4.5  1297623340\n",
       "4   70355        1     3.5  1201366614"
      ]
     },
     "execution_count": 5,
     "metadata": {},
     "output_type": "execute_result"
    }
   ],
   "source": [
    "ratings.head()"
   ]
  },
  {
   "cell_type": "markdown",
   "metadata": {},
   "source": [
    "## Collaborative Filtering"
   ]
  },
  {
   "cell_type": "code",
   "execution_count": 6,
   "metadata": {},
   "outputs": [
    {
     "name": "stdout",
     "output_type": "stream",
     "text": [
      "138493\n",
      "27278\n"
     ]
    }
   ],
   "source": [
    "user_count = ratings['userId'].nunique()\n",
    "movie_count = movies['movieId'].nunique()\n",
    "\n",
    "print(user_count)\n",
    "print(movie_count)"
   ]
  },
  {
   "cell_type": "code",
   "execution_count": 7,
   "metadata": {},
   "outputs": [
    {
     "name": "stdout",
     "output_type": "stream",
     "text": [
      "Wall time: 13.4 s\n"
     ]
    }
   ],
   "source": [
    "%%time\n",
    "## Utility matrix\n",
    "#util = pd.pivot_table(data = ratings, values = 'rating', index = 'userId', columns = 'movieId')\n",
    "\n",
    "# Since we have 20 million data entries, we are going to take a sample of 5 million to make it easier to work with\n",
    "data = ratings.iloc[:5000000,:]\n",
    "#data = ratings.sample(frac = 0.249)\n",
    "util = pd.pivot_table(data = data, values = 'rating', index= 'userId', columns = 'movieId')\n",
    "#util = util.fillna(util.mean())"
   ]
  },
  {
   "cell_type": "code",
   "execution_count": 8,
   "metadata": {},
   "outputs": [
    {
     "data": {
      "text/plain": [
       "(4980065, 4)"
      ]
     },
     "execution_count": 8,
     "metadata": {},
     "output_type": "execute_result"
    }
   ],
   "source": [
    "d = ratings.sample(frac=0.249)\n",
    "d.shape"
   ]
  },
  {
   "cell_type": "code",
   "execution_count": 9,
   "metadata": {},
   "outputs": [],
   "source": [
    "means = np.array(util.mean(axis=1))\n",
    "util_center = util.sub(means, axis = 0)\n",
    "util_center = util_center.fillna(0)"
   ]
  },
  {
   "cell_type": "code",
   "execution_count": 10,
   "metadata": {},
   "outputs": [
    {
     "name": "stdout",
     "output_type": "stream",
     "text": [
      "movieId       1    2         3    4         5         6         7    8    \\\n",
      "userId                                                                     \n",
      "7968     0.000000  0.0  0.000000  0.0  0.000000  0.000000  0.000000  0.0   \n",
      "36435    0.000000  0.0  0.000000  0.0  0.000000  0.000000  0.000000  0.0   \n",
      "89711    0.000000  0.0  0.000000  0.0  0.000000  0.000000  0.000000  0.0   \n",
      "124789   1.021978  0.0  1.021978  0.0  1.021978  1.021978  1.021978  0.0   \n",
      "122673   0.000000  0.0  0.000000  0.0  0.000000  0.000000  0.000000  0.0   \n",
      "\n",
      "movieId       9         10   ...  893  894  895  896  897       898       899  \\\n",
      "userId                       ...                                                \n",
      "7968     0.000000  0.000000  ...  0.0  0.0  0.0  0.0  0.0  0.000000 -0.222222   \n",
      "36435    0.000000  0.205882  ...  0.0  0.0  0.0  0.0  0.0  0.000000  0.000000   \n",
      "89711    0.000000  0.000000  ...  0.0  0.0  0.0  0.0  0.0  0.000000  0.000000   \n",
      "124789   0.021978  0.000000  ...  0.0  0.0  0.0  0.0  0.0  0.000000  0.000000   \n",
      "122673   0.000000  0.000000  ...  0.0  0.0  0.0  0.0  0.0  1.046875 -0.953125   \n",
      "\n",
      "movieId  900  901       902  \n",
      "userId                       \n",
      "7968     0.0  0.0  0.000000  \n",
      "36435    0.0  0.0  0.000000  \n",
      "89711    0.0  0.0  0.000000  \n",
      "124789   0.0  0.0  0.000000  \n",
      "122673   0.0  0.0 -1.953125  \n",
      "\n",
      "[5 rows x 886 columns]\n"
     ]
    }
   ],
   "source": [
    "print(util_center.sample(n=5))"
   ]
  },
  {
   "cell_type": "markdown",
   "metadata": {},
   "source": [
    "Since we are dealing with 5 million data user data, we are expecting our pivot table to be extremely sparse. "
   ]
  },
  {
   "cell_type": "code",
   "execution_count": 11,
   "metadata": {},
   "outputs": [
    {
     "name": "stderr",
     "output_type": "stream",
     "text": [
      "C:\\ProgramData\\Anaconda3\\lib\\site-packages\\ipykernel_launcher.py:1: FutureWarning: Method .as_matrix will be removed in a future version. Use .values instead.\n",
      "  \"\"\"Entry point for launching an IPython kernel.\n"
     ]
    }
   ],
   "source": [
    "util_center_matrix = util_center.as_matrix()"
   ]
  },
  {
   "cell_type": "code",
   "execution_count": 13,
   "metadata": {},
   "outputs": [
    {
     "name": "stdout",
     "output_type": "stream",
     "text": [
      "99.87\n"
     ]
    }
   ],
   "source": [
    "print(100 * round(1- len(data) / float(user_count * movie_count), 4))"
   ]
  },
  {
   "cell_type": "markdown",
   "metadata": {},
   "source": [
    "We see that our matrix is 99.87% sparse."
   ]
  },
  {
   "cell_type": "code",
   "execution_count": 14,
   "metadata": {},
   "outputs": [
    {
     "name": "stdout",
     "output_type": "stream",
     "text": [
      "movieId\n",
      "901    1.000000\n",
      "900    0.125273\n",
      "902    0.079545\n",
      "899    0.070905\n",
      "898    0.059436\n",
      "         ...   \n",
      "684   -0.025322\n",
      "697   -0.025681\n",
      "360   -0.026187\n",
      "469   -0.026793\n",
      "472   -0.026832\n",
      "Length: 886, dtype: float64\n"
     ]
    }
   ],
   "source": [
    "print(util_center.corrwith(util_center[901]).sort_values(ascending = False))"
   ]
  },
  {
   "cell_type": "code",
   "execution_count": 15,
   "metadata": {},
   "outputs": [],
   "source": [
    "u, sigma, vt = svds(util_center, which = 'LM', k = 100)\n",
    "sigma = np.diag(sigma)"
   ]
  },
  {
   "cell_type": "code",
   "execution_count": 16,
   "metadata": {},
   "outputs": [],
   "source": [
    "user_predicted_ratings = u.dot(sigma).dot(vt) + means.reshape(-1,1)"
   ]
  },
  {
   "cell_type": "code",
   "execution_count": 17,
   "metadata": {},
   "outputs": [
    {
     "data": {
      "text/html": [
       "<div>\n",
       "<style scoped>\n",
       "    .dataframe tbody tr th:only-of-type {\n",
       "        vertical-align: middle;\n",
       "    }\n",
       "\n",
       "    .dataframe tbody tr th {\n",
       "        vertical-align: top;\n",
       "    }\n",
       "\n",
       "    .dataframe thead th {\n",
       "        text-align: right;\n",
       "    }\n",
       "</style>\n",
       "<table border=\"1\" class=\"dataframe\">\n",
       "  <thead>\n",
       "    <tr style=\"text-align: right;\">\n",
       "      <th>movieId</th>\n",
       "      <th>1</th>\n",
       "      <th>2</th>\n",
       "      <th>3</th>\n",
       "      <th>4</th>\n",
       "      <th>5</th>\n",
       "      <th>6</th>\n",
       "      <th>7</th>\n",
       "      <th>8</th>\n",
       "      <th>9</th>\n",
       "      <th>10</th>\n",
       "      <th>...</th>\n",
       "      <th>893</th>\n",
       "      <th>894</th>\n",
       "      <th>895</th>\n",
       "      <th>896</th>\n",
       "      <th>897</th>\n",
       "      <th>898</th>\n",
       "      <th>899</th>\n",
       "      <th>900</th>\n",
       "      <th>901</th>\n",
       "      <th>902</th>\n",
       "    </tr>\n",
       "  </thead>\n",
       "  <tbody>\n",
       "    <tr>\n",
       "      <th>0</th>\n",
       "      <td>3.685225</td>\n",
       "      <td>3.458334</td>\n",
       "      <td>3.670072</td>\n",
       "      <td>3.687605</td>\n",
       "      <td>3.679631</td>\n",
       "      <td>3.706910</td>\n",
       "      <td>3.675140</td>\n",
       "      <td>3.683063</td>\n",
       "      <td>3.684182</td>\n",
       "      <td>3.698825</td>\n",
       "      <td>...</td>\n",
       "      <td>3.682372</td>\n",
       "      <td>3.684023</td>\n",
       "      <td>3.683818</td>\n",
       "      <td>3.682010</td>\n",
       "      <td>3.684527</td>\n",
       "      <td>3.686395</td>\n",
       "      <td>3.678403</td>\n",
       "      <td>3.681655</td>\n",
       "      <td>3.682121</td>\n",
       "      <td>3.687669</td>\n",
       "    </tr>\n",
       "    <tr>\n",
       "      <th>1</th>\n",
       "      <td>4.252382</td>\n",
       "      <td>4.245581</td>\n",
       "      <td>4.157464</td>\n",
       "      <td>4.244092</td>\n",
       "      <td>4.168927</td>\n",
       "      <td>4.197855</td>\n",
       "      <td>4.257963</td>\n",
       "      <td>4.238847</td>\n",
       "      <td>4.220855</td>\n",
       "      <td>4.235985</td>\n",
       "      <td>...</td>\n",
       "      <td>4.250559</td>\n",
       "      <td>4.249703</td>\n",
       "      <td>4.249631</td>\n",
       "      <td>4.248974</td>\n",
       "      <td>4.254575</td>\n",
       "      <td>4.220181</td>\n",
       "      <td>4.204077</td>\n",
       "      <td>4.249307</td>\n",
       "      <td>4.245473</td>\n",
       "      <td>4.235073</td>\n",
       "    </tr>\n",
       "    <tr>\n",
       "      <th>2</th>\n",
       "      <td>4.004076</td>\n",
       "      <td>4.028629</td>\n",
       "      <td>4.092724</td>\n",
       "      <td>4.056558</td>\n",
       "      <td>4.065017</td>\n",
       "      <td>4.094259</td>\n",
       "      <td>3.984732</td>\n",
       "      <td>4.046335</td>\n",
       "      <td>4.010479</td>\n",
       "      <td>4.045746</td>\n",
       "      <td>...</td>\n",
       "      <td>4.032691</td>\n",
       "      <td>4.036254</td>\n",
       "      <td>4.036567</td>\n",
       "      <td>4.030182</td>\n",
       "      <td>4.038802</td>\n",
       "      <td>4.054778</td>\n",
       "      <td>4.041530</td>\n",
       "      <td>4.020495</td>\n",
       "      <td>4.034903</td>\n",
       "      <td>4.041526</td>\n",
       "    </tr>\n",
       "    <tr>\n",
       "      <th>3</th>\n",
       "      <td>3.556313</td>\n",
       "      <td>3.534547</td>\n",
       "      <td>3.601707</td>\n",
       "      <td>3.583972</td>\n",
       "      <td>3.583359</td>\n",
       "      <td>3.087559</td>\n",
       "      <td>3.599895</td>\n",
       "      <td>3.572185</td>\n",
       "      <td>3.564162</td>\n",
       "      <td>4.001937</td>\n",
       "      <td>...</td>\n",
       "      <td>3.569470</td>\n",
       "      <td>3.572596</td>\n",
       "      <td>3.571508</td>\n",
       "      <td>3.573038</td>\n",
       "      <td>3.580896</td>\n",
       "      <td>3.595622</td>\n",
       "      <td>3.636608</td>\n",
       "      <td>3.590042</td>\n",
       "      <td>3.577900</td>\n",
       "      <td>3.607314</td>\n",
       "    </tr>\n",
       "    <tr>\n",
       "      <th>4</th>\n",
       "      <td>4.141357</td>\n",
       "      <td>3.031353</td>\n",
       "      <td>4.004719</td>\n",
       "      <td>4.155967</td>\n",
       "      <td>4.107822</td>\n",
       "      <td>4.146133</td>\n",
       "      <td>4.260107</td>\n",
       "      <td>4.123130</td>\n",
       "      <td>4.130617</td>\n",
       "      <td>4.201011</td>\n",
       "      <td>...</td>\n",
       "      <td>4.144380</td>\n",
       "      <td>4.153831</td>\n",
       "      <td>4.150381</td>\n",
       "      <td>4.157269</td>\n",
       "      <td>4.163229</td>\n",
       "      <td>4.214478</td>\n",
       "      <td>4.346298</td>\n",
       "      <td>4.198924</td>\n",
       "      <td>4.157296</td>\n",
       "      <td>4.202694</td>\n",
       "    </tr>\n",
       "  </tbody>\n",
       "</table>\n",
       "<p>5 rows × 886 columns</p>\n",
       "</div>"
      ],
      "text/plain": [
       "movieId       1         2         3         4         5         6         7    \\\n",
       "0        3.685225  3.458334  3.670072  3.687605  3.679631  3.706910  3.675140   \n",
       "1        4.252382  4.245581  4.157464  4.244092  4.168927  4.197855  4.257963   \n",
       "2        4.004076  4.028629  4.092724  4.056558  4.065017  4.094259  3.984732   \n",
       "3        3.556313  3.534547  3.601707  3.583972  3.583359  3.087559  3.599895   \n",
       "4        4.141357  3.031353  4.004719  4.155967  4.107822  4.146133  4.260107   \n",
       "\n",
       "movieId       8         9         10   ...       893       894       895  \\\n",
       "0        3.683063  3.684182  3.698825  ...  3.682372  3.684023  3.683818   \n",
       "1        4.238847  4.220855  4.235985  ...  4.250559  4.249703  4.249631   \n",
       "2        4.046335  4.010479  4.045746  ...  4.032691  4.036254  4.036567   \n",
       "3        3.572185  3.564162  4.001937  ...  3.569470  3.572596  3.571508   \n",
       "4        4.123130  4.130617  4.201011  ...  4.144380  4.153831  4.150381   \n",
       "\n",
       "movieId       896       897       898       899       900       901       902  \n",
       "0        3.682010  3.684527  3.686395  3.678403  3.681655  3.682121  3.687669  \n",
       "1        4.248974  4.254575  4.220181  4.204077  4.249307  4.245473  4.235073  \n",
       "2        4.030182  4.038802  4.054778  4.041530  4.020495  4.034903  4.041526  \n",
       "3        3.573038  3.580896  3.595622  3.636608  3.590042  3.577900  3.607314  \n",
       "4        4.157269  4.163229  4.214478  4.346298  4.198924  4.157296  4.202694  \n",
       "\n",
       "[5 rows x 886 columns]"
      ]
     },
     "execution_count": 17,
     "metadata": {},
     "output_type": "execute_result"
    }
   ],
   "source": [
    "preds = pd.DataFrame(user_predicted_ratings, columns = util_center.columns)\n",
    "preds.head()"
   ]
  },
  {
   "cell_type": "code",
   "execution_count": 18,
   "metadata": {},
   "outputs": [],
   "source": [
    "test = ratings[ratings['userId'] == 12].iloc[:,:3]\n",
    "test_full = test.merge(movies.iloc[:,:2], left_on = 'movieId', right_on = 'movieId')\n",
    "test_recommend = movies[~movies['movieId'].isin(test_full['movieId'])].iloc[:,:2]"
   ]
  },
  {
   "cell_type": "code",
   "execution_count": 19,
   "metadata": {},
   "outputs": [],
   "source": [
    "sorted_preds = pd.DataFrame(preds.iloc[12 - 1].sort_values(ascending = False))\n",
    "test_recommend = test_recommend.merge(sorted_preds.reset_index(), left_on = 'movieId', right_on = 'movieId')"
   ]
  },
  {
   "cell_type": "code",
   "execution_count": 20,
   "metadata": {},
   "outputs": [
    {
     "data": {
      "text/html": [
       "<div>\n",
       "<style scoped>\n",
       "    .dataframe tbody tr th:only-of-type {\n",
       "        vertical-align: middle;\n",
       "    }\n",
       "\n",
       "    .dataframe tbody tr th {\n",
       "        vertical-align: top;\n",
       "    }\n",
       "\n",
       "    .dataframe thead th {\n",
       "        text-align: right;\n",
       "    }\n",
       "</style>\n",
       "<table border=\"1\" class=\"dataframe\">\n",
       "  <thead>\n",
       "    <tr style=\"text-align: right;\">\n",
       "      <th></th>\n",
       "      <th>movieId</th>\n",
       "      <th>title</th>\n",
       "      <th>Predictions</th>\n",
       "    </tr>\n",
       "  </thead>\n",
       "  <tbody>\n",
       "    <tr>\n",
       "      <th>482</th>\n",
       "      <td>508</td>\n",
       "      <td>Philadelphia</td>\n",
       "      <td>3.706682</td>\n",
       "    </tr>\n",
       "    <tr>\n",
       "      <th>418</th>\n",
       "      <td>442</td>\n",
       "      <td>Demolition Man</td>\n",
       "      <td>3.699232</td>\n",
       "    </tr>\n",
       "    <tr>\n",
       "      <th>0</th>\n",
       "      <td>2</td>\n",
       "      <td>Jumanji</td>\n",
       "      <td>3.674215</td>\n",
       "    </tr>\n",
       "    <tr>\n",
       "      <th>519</th>\n",
       "      <td>546</td>\n",
       "      <td>Super Mario Bros.</td>\n",
       "      <td>3.672807</td>\n",
       "    </tr>\n",
       "    <tr>\n",
       "      <th>318</th>\n",
       "      <td>337</td>\n",
       "      <td>What's Eating Gilbert Grape</td>\n",
       "      <td>3.663876</td>\n",
       "    </tr>\n",
       "    <tr>\n",
       "      <th>48</th>\n",
       "      <td>58</td>\n",
       "      <td>Postman, The (Postino, Il)</td>\n",
       "      <td>3.660172</td>\n",
       "    </tr>\n",
       "    <tr>\n",
       "      <th>201</th>\n",
       "      <td>216</td>\n",
       "      <td>Billy Madison</td>\n",
       "      <td>3.638388</td>\n",
       "    </tr>\n",
       "    <tr>\n",
       "      <th>247</th>\n",
       "      <td>265</td>\n",
       "      <td>Like Water for Chocolate (Como agua para choco...</td>\n",
       "      <td>3.629731</td>\n",
       "    </tr>\n",
       "    <tr>\n",
       "      <th>493</th>\n",
       "      <td>519</td>\n",
       "      <td>RoboCop 3</td>\n",
       "      <td>3.625194</td>\n",
       "    </tr>\n",
       "    <tr>\n",
       "      <th>308</th>\n",
       "      <td>327</td>\n",
       "      <td>Tank Girl</td>\n",
       "      <td>3.620672</td>\n",
       "    </tr>\n",
       "    <tr>\n",
       "      <th>60</th>\n",
       "      <td>70</td>\n",
       "      <td>From Dusk Till Dawn</td>\n",
       "      <td>3.616695</td>\n",
       "    </tr>\n",
       "    <tr>\n",
       "      <th>229</th>\n",
       "      <td>246</td>\n",
       "      <td>Hoop Dreams</td>\n",
       "      <td>3.611716</td>\n",
       "    </tr>\n",
       "    <tr>\n",
       "      <th>751</th>\n",
       "      <td>800</td>\n",
       "      <td>Lone Star</td>\n",
       "      <td>3.607555</td>\n",
       "    </tr>\n",
       "    <tr>\n",
       "      <th>494</th>\n",
       "      <td>520</td>\n",
       "      <td>Robin Hood: Men in Tights</td>\n",
       "      <td>3.602329</td>\n",
       "    </tr>\n",
       "    <tr>\n",
       "      <th>314</th>\n",
       "      <td>333</td>\n",
       "      <td>Tommy Boy</td>\n",
       "      <td>3.600061</td>\n",
       "    </tr>\n",
       "    <tr>\n",
       "      <th>323</th>\n",
       "      <td>342</td>\n",
       "      <td>Muriel's Wedding</td>\n",
       "      <td>3.592921</td>\n",
       "    </tr>\n",
       "    <tr>\n",
       "      <th>460</th>\n",
       "      <td>485</td>\n",
       "      <td>Last Action Hero</td>\n",
       "      <td>3.591632</td>\n",
       "    </tr>\n",
       "    <tr>\n",
       "      <th>149</th>\n",
       "      <td>163</td>\n",
       "      <td>Desperado</td>\n",
       "      <td>3.589188</td>\n",
       "    </tr>\n",
       "    <tr>\n",
       "      <th>534</th>\n",
       "      <td>562</td>\n",
       "      <td>Welcome to the Dollhouse</td>\n",
       "      <td>3.587825</td>\n",
       "    </tr>\n",
       "    <tr>\n",
       "      <th>325</th>\n",
       "      <td>345</td>\n",
       "      <td>Adventures of Priscilla, Queen of the Desert, The</td>\n",
       "      <td>3.584092</td>\n",
       "    </tr>\n",
       "  </tbody>\n",
       "</table>\n",
       "</div>"
      ],
      "text/plain": [
       "     movieId                                              title  Predictions\n",
       "482      508                                       Philadelphia     3.706682\n",
       "418      442                                     Demolition Man     3.699232\n",
       "0          2                                            Jumanji     3.674215\n",
       "519      546                                  Super Mario Bros.     3.672807\n",
       "318      337                        What's Eating Gilbert Grape     3.663876\n",
       "48        58                         Postman, The (Postino, Il)     3.660172\n",
       "201      216                                      Billy Madison     3.638388\n",
       "247      265  Like Water for Chocolate (Como agua para choco...     3.629731\n",
       "493      519                                          RoboCop 3     3.625194\n",
       "308      327                                          Tank Girl     3.620672\n",
       "60        70                                From Dusk Till Dawn     3.616695\n",
       "229      246                                        Hoop Dreams     3.611716\n",
       "751      800                                          Lone Star     3.607555\n",
       "494      520                          Robin Hood: Men in Tights     3.602329\n",
       "314      333                                          Tommy Boy     3.600061\n",
       "323      342                                   Muriel's Wedding     3.592921\n",
       "460      485                                   Last Action Hero     3.591632\n",
       "149      163                                          Desperado     3.589188\n",
       "534      562                           Welcome to the Dollhouse     3.587825\n",
       "325      345  Adventures of Priscilla, Queen of the Desert, The     3.584092"
      ]
     },
     "execution_count": 20,
     "metadata": {},
     "output_type": "execute_result"
    }
   ],
   "source": [
    "test_recommend.rename(columns = {11: 'Predictions'}).sort_values('Predictions', ascending = False).iloc[:20, :]"
   ]
  },
  {
   "cell_type": "code",
   "execution_count": 21,
   "metadata": {},
   "outputs": [],
   "source": [
    "def recommend(preds, userId, movies_df, ratings_df, num_recommendation):\n",
    "    sorted_preds = pd.DataFrame(preds.iloc[userId - 1].sort_values(ascending = False))\n",
    "    \n",
    "    given_user = ratings_df[ratings_df['userId'] == userId].iloc[:,:3]\n",
    "    full_user_data = given_user.merge(movies_df.iloc[:, :3], left_on = 'movieId', right_on = 'movieId')\n",
    "    \n",
    "    recommendations = movies_df[~movies['movieId'].isin(full_user_data['movieId'])].iloc[:,:3]\n",
    "    recommendations = recommendations.merge(sorted_preds.reset_index(), left_on = 'movieId', right_on = 'movieId')\n",
    "    recommendations = recommendations.rename(columns = {(userId - 1): 'Predictions' }).sort_values('Predictions', ascending = False)\n",
    "    recommendations['Normalized Predictions'] = (recommendations['Predictions'] - recommendations['Predictions'].min()) /(\n",
    "                                                recommendations['Predictions'].max()-recommendations['Predictions'].min())\n",
    "    return full_user_data, recommendations.iloc[:num_recommendation,:]"
   ]
  },
  {
   "cell_type": "code",
   "execution_count": 22,
   "metadata": {},
   "outputs": [
    {
     "name": "stdout",
     "output_type": "stream",
     "text": [
      "The user watched:\n",
      "\n"
     ]
    },
    {
     "data": {
      "text/html": [
       "<table border=\"1\" class=\"dataframe\">\n",
       "  <thead>\n",
       "    <tr style=\"text-align: right;\">\n",
       "      <th></th>\n",
       "      <th>userId</th>\n",
       "      <th>movieId</th>\n",
       "      <th>rating</th>\n",
       "      <th>title</th>\n",
       "      <th>genres</th>\n",
       "    </tr>\n",
       "  </thead>\n",
       "  <tbody>\n",
       "    <tr>\n",
       "      <th>0</th>\n",
       "      <td>123</td>\n",
       "      <td>10</td>\n",
       "      <td>3.0</td>\n",
       "      <td>GoldenEye</td>\n",
       "      <td>Action|Adventure|Thriller</td>\n",
       "    </tr>\n",
       "    <tr>\n",
       "      <th>1</th>\n",
       "      <td>123</td>\n",
       "      <td>18</td>\n",
       "      <td>4.0</td>\n",
       "      <td>Four Rooms</td>\n",
       "      <td>Comedy</td>\n",
       "    </tr>\n",
       "    <tr>\n",
       "      <th>2</th>\n",
       "      <td>123</td>\n",
       "      <td>20</td>\n",
       "      <td>3.0</td>\n",
       "      <td>Money Train</td>\n",
       "      <td>Action|Comedy|Crime|Drama|Thriller</td>\n",
       "    </tr>\n",
       "    <tr>\n",
       "      <th>3</th>\n",
       "      <td>123</td>\n",
       "      <td>21</td>\n",
       "      <td>3.0</td>\n",
       "      <td>Get Shorty</td>\n",
       "      <td>Comedy|Crime|Thriller</td>\n",
       "    </tr>\n",
       "    <tr>\n",
       "      <th>4</th>\n",
       "      <td>123</td>\n",
       "      <td>27</td>\n",
       "      <td>3.0</td>\n",
       "      <td>Now and Then</td>\n",
       "      <td>Children|Drama</td>\n",
       "    </tr>\n",
       "    <tr>\n",
       "      <th>5</th>\n",
       "      <td>123</td>\n",
       "      <td>65</td>\n",
       "      <td>1.0</td>\n",
       "      <td>Bio-Dome</td>\n",
       "      <td>Comedy</td>\n",
       "    </tr>\n",
       "    <tr>\n",
       "      <th>6</th>\n",
       "      <td>123</td>\n",
       "      <td>102</td>\n",
       "      <td>3.0</td>\n",
       "      <td>Mr. Wrong</td>\n",
       "      <td>Comedy</td>\n",
       "    </tr>\n",
       "    <tr>\n",
       "      <th>7</th>\n",
       "      <td>123</td>\n",
       "      <td>104</td>\n",
       "      <td>3.0</td>\n",
       "      <td>Happy Gilmore</td>\n",
       "      <td>Comedy</td>\n",
       "    </tr>\n",
       "    <tr>\n",
       "      <th>8</th>\n",
       "      <td>123</td>\n",
       "      <td>121</td>\n",
       "      <td>4.0</td>\n",
       "      <td>Boys of St. Vincent, The</td>\n",
       "      <td>Drama</td>\n",
       "    </tr>\n",
       "    <tr>\n",
       "      <th>9</th>\n",
       "      <td>123</td>\n",
       "      <td>135</td>\n",
       "      <td>1.0</td>\n",
       "      <td>Down Periscope</td>\n",
       "      <td>Comedy</td>\n",
       "    </tr>\n",
       "    <tr>\n",
       "      <th>10</th>\n",
       "      <td>123</td>\n",
       "      <td>209</td>\n",
       "      <td>3.0</td>\n",
       "      <td>White Man's Burden</td>\n",
       "      <td>Drama</td>\n",
       "    </tr>\n",
       "    <tr>\n",
       "      <th>11</th>\n",
       "      <td>123</td>\n",
       "      <td>637</td>\n",
       "      <td>3.0</td>\n",
       "      <td>Sgt. Bilko</td>\n",
       "      <td>Comedy</td>\n",
       "    </tr>\n",
       "    <tr>\n",
       "      <th>12</th>\n",
       "      <td>123</td>\n",
       "      <td>662</td>\n",
       "      <td>3.0</td>\n",
       "      <td>Fear</td>\n",
       "      <td>Thriller</td>\n",
       "    </tr>\n",
       "    <tr>\n",
       "      <th>13</th>\n",
       "      <td>123</td>\n",
       "      <td>736</td>\n",
       "      <td>1.0</td>\n",
       "      <td>Twister</td>\n",
       "      <td>Action|Adventure|Romance|Thriller</td>\n",
       "    </tr>\n",
       "    <tr>\n",
       "      <th>14</th>\n",
       "      <td>123</td>\n",
       "      <td>737</td>\n",
       "      <td>1.0</td>\n",
       "      <td>Barb Wire</td>\n",
       "      <td>Action|Sci-Fi</td>\n",
       "    </tr>\n",
       "    <tr>\n",
       "      <th>15</th>\n",
       "      <td>123</td>\n",
       "      <td>747</td>\n",
       "      <td>2.0</td>\n",
       "      <td>Stupids, The</td>\n",
       "      <td>Comedy</td>\n",
       "    </tr>\n",
       "    <tr>\n",
       "      <th>16</th>\n",
       "      <td>123</td>\n",
       "      <td>754</td>\n",
       "      <td>3.0</td>\n",
       "      <td>Gold Diggers: The Secret of Bear Mountain</td>\n",
       "      <td>Adventure|Children</td>\n",
       "    </tr>\n",
       "    <tr>\n",
       "      <th>17</th>\n",
       "      <td>123</td>\n",
       "      <td>762</td>\n",
       "      <td>3.0</td>\n",
       "      <td>Striptease</td>\n",
       "      <td>Comedy|Crime</td>\n",
       "    </tr>\n",
       "    <tr>\n",
       "      <th>18</th>\n",
       "      <td>123</td>\n",
       "      <td>778</td>\n",
       "      <td>5.0</td>\n",
       "      <td>Trainspotting</td>\n",
       "      <td>Comedy|Crime|Drama</td>\n",
       "    </tr>\n",
       "    <tr>\n",
       "      <th>19</th>\n",
       "      <td>123</td>\n",
       "      <td>818</td>\n",
       "      <td>2.0</td>\n",
       "      <td>Very Brady Sequel, A</td>\n",
       "      <td>Comedy</td>\n",
       "    </tr>\n",
       "    <tr>\n",
       "      <th>20</th>\n",
       "      <td>123</td>\n",
       "      <td>849</td>\n",
       "      <td>1.0</td>\n",
       "      <td>Escape from L.A.</td>\n",
       "      <td>Action|Adventure|Sci-Fi|Thriller</td>\n",
       "    </tr>\n",
       "    <tr>\n",
       "      <th>21</th>\n",
       "      <td>123</td>\n",
       "      <td>1103</td>\n",
       "      <td>3.0</td>\n",
       "      <td>Rebel Without a Cause</td>\n",
       "      <td>Drama</td>\n",
       "    </tr>\n",
       "  </tbody>\n",
       "</table>"
      ],
      "text/plain": [
       "<IPython.core.display.HTML object>"
      ]
     },
     "metadata": {},
     "output_type": "display_data"
    },
    {
     "name": "stdout",
     "output_type": "stream",
     "text": [
      "None\n",
      "\n",
      "We will recommend the user:\n",
      "\n"
     ]
    },
    {
     "data": {
      "text/html": [
       "<table border=\"1\" class=\"dataframe\">\n",
       "  <thead>\n",
       "    <tr style=\"text-align: right;\">\n",
       "      <th></th>\n",
       "      <th>movieId</th>\n",
       "      <th>title</th>\n",
       "      <th>genres</th>\n",
       "      <th>Predictions</th>\n",
       "      <th>Normalized Predictions</th>\n",
       "    </tr>\n",
       "  </thead>\n",
       "  <tbody>\n",
       "    <tr>\n",
       "      <th>5</th>\n",
       "      <td>6</td>\n",
       "      <td>Heat</td>\n",
       "      <td>Action|Crime|Thriller</td>\n",
       "      <td>5.199966</td>\n",
       "      <td>1.000000</td>\n",
       "    </tr>\n",
       "    <tr>\n",
       "      <th>279</th>\n",
       "      <td>293</td>\n",
       "      <td>Léon: The Professional (a.k.a. The Professional) (Léon)</td>\n",
       "      <td>Action|Crime|Drama|Thriller</td>\n",
       "      <td>5.192685</td>\n",
       "      <td>0.998273</td>\n",
       "    </tr>\n",
       "    <tr>\n",
       "      <th>26</th>\n",
       "      <td>32</td>\n",
       "      <td>Twelve Monkeys (a.k.a. 12 Monkeys)</td>\n",
       "      <td>Mystery|Sci-Fi|Thriller</td>\n",
       "      <td>5.071032</td>\n",
       "      <td>0.969419</td>\n",
       "    </tr>\n",
       "    <tr>\n",
       "      <th>748</th>\n",
       "      <td>780</td>\n",
       "      <td>Independence Day (a.k.a. ID4)</td>\n",
       "      <td>Action|Adventure|Sci-Fi|Thriller</td>\n",
       "      <td>5.069833</td>\n",
       "      <td>0.969135</td>\n",
       "    </tr>\n",
       "    <tr>\n",
       "      <th>591</th>\n",
       "      <td>608</td>\n",
       "      <td>Fargo</td>\n",
       "      <td>Comedy|Crime|Drama|Thriller</td>\n",
       "      <td>5.055816</td>\n",
       "      <td>0.965810</td>\n",
       "    </tr>\n",
       "    <tr>\n",
       "      <th>101</th>\n",
       "      <td>111</td>\n",
       "      <td>Taxi Driver</td>\n",
       "      <td>Crime|Drama|Thriller</td>\n",
       "      <td>5.053516</td>\n",
       "      <td>0.965265</td>\n",
       "    </tr>\n",
       "    <tr>\n",
       "      <th>352</th>\n",
       "      <td>367</td>\n",
       "      <td>Mask, The</td>\n",
       "      <td>Action|Comedy|Crime|Fantasy</td>\n",
       "      <td>5.051345</td>\n",
       "      <td>0.964750</td>\n",
       "    </tr>\n",
       "    <tr>\n",
       "      <th>342</th>\n",
       "      <td>357</td>\n",
       "      <td>Four Weddings and a Funeral</td>\n",
       "      <td>Comedy|Romance</td>\n",
       "      <td>5.048115</td>\n",
       "      <td>0.963984</td>\n",
       "    </tr>\n",
       "    <tr>\n",
       "      <th>41</th>\n",
       "      <td>47</td>\n",
       "      <td>Seven (a.k.a. Se7en)</td>\n",
       "      <td>Mystery|Thriller</td>\n",
       "      <td>5.043238</td>\n",
       "      <td>0.962827</td>\n",
       "    </tr>\n",
       "    <tr>\n",
       "      <th>304</th>\n",
       "      <td>318</td>\n",
       "      <td>Shawshank Redemption, The</td>\n",
       "      <td>Crime|Drama</td>\n",
       "      <td>5.037912</td>\n",
       "      <td>0.961564</td>\n",
       "    </tr>\n",
       "    <tr>\n",
       "      <th>274</th>\n",
       "      <td>288</td>\n",
       "      <td>Natural Born Killers</td>\n",
       "      <td>Action|Crime|Thriller</td>\n",
       "      <td>5.034991</td>\n",
       "      <td>0.960871</td>\n",
       "    </tr>\n",
       "    <tr>\n",
       "      <th>0</th>\n",
       "      <td>1</td>\n",
       "      <td>Toy Story</td>\n",
       "      <td>Adventure|Animation|Children|Comedy|Fantasy</td>\n",
       "      <td>5.019730</td>\n",
       "      <td>0.957251</td>\n",
       "    </tr>\n",
       "    <tr>\n",
       "      <th>282</th>\n",
       "      <td>296</td>\n",
       "      <td>Pulp Fiction</td>\n",
       "      <td>Comedy|Crime|Drama|Thriller</td>\n",
       "      <td>5.012219</td>\n",
       "      <td>0.955470</td>\n",
       "    </tr>\n",
       "    <tr>\n",
       "      <th>576</th>\n",
       "      <td>593</td>\n",
       "      <td>Silence of the Lambs, The</td>\n",
       "      <td>Crime|Horror|Thriller</td>\n",
       "      <td>5.001935</td>\n",
       "      <td>0.953031</td>\n",
       "    </tr>\n",
       "    <tr>\n",
       "      <th>44</th>\n",
       "      <td>50</td>\n",
       "      <td>Usual Suspects, The</td>\n",
       "      <td>Crime|Mystery|Thriller</td>\n",
       "      <td>4.995752</td>\n",
       "      <td>0.951564</td>\n",
       "    </tr>\n",
       "    <tr>\n",
       "      <th>628</th>\n",
       "      <td>648</td>\n",
       "      <td>Mission: Impossible</td>\n",
       "      <td>Action|Adventure|Mystery|Thriller</td>\n",
       "      <td>4.580306</td>\n",
       "      <td>0.853028</td>\n",
       "    </tr>\n",
       "    <tr>\n",
       "      <th>822</th>\n",
       "      <td>858</td>\n",
       "      <td>Godfather, The</td>\n",
       "      <td>Crime|Drama</td>\n",
       "      <td>4.511307</td>\n",
       "      <td>0.836663</td>\n",
       "    </tr>\n",
       "    <tr>\n",
       "      <th>138</th>\n",
       "      <td>150</td>\n",
       "      <td>Apollo 13</td>\n",
       "      <td>Adventure|Drama|IMAX</td>\n",
       "      <td>4.491691</td>\n",
       "      <td>0.832010</td>\n",
       "    </tr>\n",
       "    <tr>\n",
       "      <th>442</th>\n",
       "      <td>457</td>\n",
       "      <td>Fugitive, The</td>\n",
       "      <td>Thriller</td>\n",
       "      <td>4.469767</td>\n",
       "      <td>0.826810</td>\n",
       "    </tr>\n",
       "    <tr>\n",
       "      <th>221</th>\n",
       "      <td>235</td>\n",
       "      <td>Ed Wood</td>\n",
       "      <td>Comedy|Drama</td>\n",
       "      <td>4.324769</td>\n",
       "      <td>0.792419</td>\n",
       "    </tr>\n",
       "  </tbody>\n",
       "</table>"
      ],
      "text/plain": [
       "<IPython.core.display.HTML object>"
      ]
     },
     "metadata": {},
     "output_type": "display_data"
    },
    {
     "name": "stdout",
     "output_type": "stream",
     "text": [
      "None\n"
     ]
    }
   ],
   "source": [
    "watched, predictions = recommend(preds, 123, movies, ratings, 20)\n",
    "print(\"The user watched:\\n\")\n",
    "print(display(HTML(watched.to_html())))\n",
    "print('\\nWe will recommend the user:\\n')\n",
    "print(display(HTML(predictions.to_html())))"
   ]
  },
  {
   "cell_type": "code",
   "execution_count": 23,
   "metadata": {},
   "outputs": [
    {
     "name": "stdout",
     "output_type": "stream",
     "text": [
      "Wall time: 123 ms\n"
     ]
    }
   ],
   "source": [
    "%%time\n",
    "all_watch, all_preds = recommend(preds, 123,movies,ratings,movie_count)"
   ]
  },
  {
   "cell_type": "code",
   "execution_count": 24,
   "metadata": {},
   "outputs": [
    {
     "name": "stdout",
     "output_type": "stream",
     "text": [
      "0.03171053596304715\n"
     ]
    }
   ],
   "source": [
    "item_coverage = (all_preds.shape[0]/movie_count)\n",
    "print(item_coverage)"
   ]
  },
  {
   "cell_type": "code",
   "execution_count": 25,
   "metadata": {},
   "outputs": [],
   "source": [
    "def coverage(preds, movies, ratings, movie_count, user_count, user_range, type):\n",
    "    preds_length = []\n",
    "    coverage = []\n",
    "    for i in range(1, user_range):\n",
    "        all_watch, all_preds = recommend(preds, i, movies, ratings, movie_count)\n",
    "        preds_length.append(all_preds.shape[0])\n",
    "    if (type == 'item'):\n",
    "        return [length/movie_count for length in preds_length]\n",
    "    elif (type == 'user'):\n",
    "        return [user_r/user_count for user_r in range(1,user_range)]\n",
    "    elif (type == 'catalog'):\n",
    "        return (len(preds_length))/(movie_count, user_count)"
   ]
  },
  {
   "cell_type": "code",
   "execution_count": 26,
   "metadata": {},
   "outputs": [
    {
     "name": "stdout",
     "output_type": "stream",
     "text": [
      "Wall time: 24 s\n"
     ]
    }
   ],
   "source": [
    "%%time\n",
    "item_coverage = coverage(preds,movies,ratings,movie_count,user_count,100,'item')\n",
    "user_coverage = coverage(preds,movies,ratings,movie_count,user_count,100,'user')\n",
    "#print(coverage(preds,movies,ratings,movie_count,data.shape[0],'catalog'))"
   ]
  },
  {
   "cell_type": "code",
   "execution_count": 27,
   "metadata": {},
   "outputs": [
    {
     "data": {
      "text/plain": [
       "[<matplotlib.lines.Line2D at 0x21300238d88>]"
      ]
     },
     "execution_count": 27,
     "metadata": {},
     "output_type": "execute_result"
    },
    {
     "data": {
      "image/png": "[encoded data removed]",
      "text/plain": [
       "<Figure size 432x288 with 1 Axes>"
      ]
     },
     "metadata": {
      "needs_background": "light"
     },
     "output_type": "display_data"
    }
   ],
   "source": [
    "plt.title('Item Coverage for 100 Users')\n",
    "plt.xlabel('userId')\n",
    "plt.plot(item_coverage, 'ro')"
   ]
  },
  {
   "cell_type": "code",
   "execution_count": 28,
   "metadata": {},
   "outputs": [
    {
     "data": {
      "text/plain": [
       "[<matplotlib.lines.Line2D at 0x2130033ed88>]"
      ]
     },
     "execution_count": 28,
     "metadata": {},
     "output_type": "execute_result"
    },
    {
     "data": {
      "image/png": "[encoded data removed]",
      "text/plain": [
       "<Figure size 432x288 with 1 Axes>"
      ]
     },
     "metadata": {
      "needs_background": "light"
     },
     "output_type": "display_data"
    }
   ],
   "source": [
    "plt.title('User Coverage for 100 Users')\n",
    "plt.xlabel('userId')\n",
    "plt.plot(user_coverage, 'bo')"
   ]
  },
  {
   "cell_type": "markdown",
   "metadata": {},
   "source": [
    "## Conclusion"
   ]
  },
  {
   "cell_type": "markdown",
   "metadata": {},
   "source": [
    "This is a collaborative filtering matrix factorization movie recommender system using SVD to reduce the dimensionality of the pivot table calculated above. We do this because we have 20 million user data and we are sampling 5 million user data. Since we have so much data, we want to reduce dimensionality. This can be seen with how sparse our data was, even with sampling 5 million users. We found that the matrix was 99.9% sparse. This makes sense since movies don't all share similar genre tags. Similarly, users don't watch all movies. With how large and how sparse our matrix was, using SVD helps reduce dimensionality and gives us a sense of which users are watching similar things. This is done with collaborative filtering as we look at users who share similar movie patterns as other users and recommend them movie predictions. Since we are using SVD, however, we can expect that we will lose some crucial information about the user data.\n",
    "\n",
    "From above, we see that given all of the information we have about userId: 112, we can predict them movies that they haven't seen and that are of similar genres. In the case of userId: 112, we can see that he is being recommended a lot of crime/thriller/mystery/action movies."
   ]
  },
  {
   "cell_type": "code",
   "execution_count": 34,
   "metadata": {},
   "outputs": [],
   "source": [
    "from surprise import SVD, SVDpp\n",
    "from surprise.accuracy import rmse, mse\n",
    "from surprise import Reader\n",
    "from surprise import Dataset\n",
    "from surprise.model_selection import cross_validate\n",
    "from surprise import accuracy\n",
    "from surprise.model_selection import train_test_split"
   ]
  },
  {
   "cell_type": "code",
   "execution_count": 36,
   "metadata": {},
   "outputs": [],
   "source": [
    "reader = Reader(rating_scale=(0.5,5))\n",
    "r_data = Dataset.load_from_df(ratings.iloc[:,:3], reader)"
   ]
  },
  {
   "cell_type": "code",
   "execution_count": null,
   "metadata": {},
   "outputs": [],
   "source": [
    "%%time\n",
    "benchmark = []\n",
    "for algorithm in [SVD(), SVDpp()]:\n",
    "    results = cross_validate(algorithm, r_data, verbose=False)\n",
    "    \n",
    "    tmp = pd.DataFrame.from_dict(results).mean(axis=0)\n",
    "    tmp = tmp.append(pd.Series([str(algorithm).split(' ')[0].split('.')[-1]], index=['Algorithm']))\n",
    "    benchmark.append(tmp)"
   ]
  },
  {
   "cell_type": "code",
   "execution_count": 38,
   "metadata": {},
   "outputs": [
    {
     "name": "stdout",
     "output_type": "stream",
     "text": [
      "ERROR! Session/line number was not unique in database. History logging moved to new session 143\n"
     ]
    },
    {
     "name": "stderr",
     "output_type": "stream",
     "text": [
      "ERROR:root:Internal Python error in the inspect module.\n",
      "Below is the traceback from this internal error.\n",
      "\n",
      "\n",
      "KeyboardInterrupt\n",
      "\n"
     ]
    }
   ],
   "source": [
    "%%time\n",
    "results = cross_validate(SVD(), r_data, verbose = False)\n",
    "tmp = pd.DataFrame.from_dict(results).mean(axis = 0)"
   ]
  },
  {
   "cell_type": "code",
   "execution_count": null,
   "metadata": {},
   "outputs": [],
   "source": []
  }
 ],
 "metadata": {
  "kernelspec": {
   "display_name": "Python 3",
   "language": "python",
   "name": "python3"
  },
  "language_info": {
   "codemirror_mode": {
    "name": "ipython",
    "version": 3
   },
   "file_extension": ".py",
   "mimetype": "text/x-python",
   "name": "python",
   "nbconvert_exporter": "python",
   "pygments_lexer": "ipython3",
   "version": "3.7.5"
  }
 },
 "nbformat": 4,
 "nbformat_minor": 4
}
